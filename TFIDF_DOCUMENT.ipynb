{
 "cells": [
  {
   "cell_type": "code",
   "execution_count": null,
   "metadata": {},
   "outputs": [],
   "source": [
    "rom sklearn.feature_extraction.text import TfidfVectorizer\n",
    "\n",
    "#documents = [open(f) for f in text_files]\n",
    "#tfidf = TfidfVectorizer().fit_transform(documents)\n",
    "# no need to normalize, since Vectorizer will return normalized tf-idf\n",
    "#pairwise_similarity = tfidf * tfidf.T\n",
    "\n",
    "\"\"\"One of the finer books I read this year was John Kaag's Hiking With Nietzsche, in which Haag, a professor of philosophy, rekindles his passion for the German thinker while tracing picturesque hiking trails in the mountains of Switzerland. It's a mear-precise rendering of the travelogue as a self-help book. A young Kaag was an avowed Nietzsche acolyte but given the ravages of resposibilities and adulthood, the writer put his affinity to test by undertaking physically enduring hikes through the Alps, revisiting haunts that the philosopher escaped to, in search of solitude and salve. The journey's demands, coupled with his own inner turmoil, are catnip for anybody feeling at cross purposes with their own life.\n",
    "\n",
    "Summer is a charming flirt. Easy-going and casual. Summer doesn't huff and puff to win our affections. It has us at \"Hello\". Winter broods like the tortured protagonist of big fat Russian novel. It is daunting and dramatic, burning with a slow intensity.\n",
    "The season's reputation precedes itself, and often, not in a good way. It has a way of whittling down everything to its bare bones. Even relationships not attuned to its ebbs and flows can fray. At a dinner conversation I once attended, I listened in bemusement as a recent divorcee made the case that it was Scandinavian frost that had cooled his ex-wife's ardour. How original.\n",
    "\n",
    "If there is a phrase I would prefer to retire from online bios, personal or professional, it is, \"I love travel.\" Or some approximation of that statement. To clarify, I am not against travellers or those who proudly flaunt their passion for travel. On the contrary, editing a travel magazine has now made me oddly protective of travellers and their ilk. My submission is that \"love to travel\", suggested so casually, just doesn't feel adequate to the depth of emotion it sparks in true devotees.\n",
    "In February, the month of love as endowed by our great gifting industrial complex, we are wrestling with that \"love for travel\" means in tangible, life-affecting terms.\"\"\"\n",
    "\n",
    "vect = TfidfVectorizer(min_df=1)\n",
    "tfidf = vect.fit_transform([\"One of the finer books I read this year was John Kaag's Hiking With Nietzsche, in which Haag, a professor of philosophy, rekindles his passion for the German thinker while tracing picturesque hiking trails in the mountains of Switzerland. It's a mear-precise rendering of the travelogue as a self-help book. A young Kaag was an avowed Nietzsche acolyte but given the ravages of resposibilities and adulthood, the writer put his affinity to test by undertaking physically enduring hikes through the Alps, revisiting haunts that the philosopher escaped to, in search of solitude and salve. The journey's demands, coupled with his own inner turmoil, are catnip for anybody feeling at cross purposes with their own life.\",\"Summer is a charming flirt. Easy-going and casual. Summer doesn't huff and puff to win our affections. It has us at 'Hello'. Winter broods like the tortured protagonist of big fat Russian novel. It is daunting and dramatic, burning with a slow intensity. The season's reputation precedes itself, and often, not in a good way. It has a way of whittling down everything to its bare bones. Even relationships not attuned to its ebbs and flows can fray. At a dinner conversation I once attended, I listened in bemusement as a recent divorcee made the case that it was Scandinavian frost that had cooled his ex-wife's ardour. How original.\",\"If there is a phrase I would prefer to retire from online bios, personal or professional, it is, 'I love travel.' Or some approximation of that statement. To clarify, I am not against travellers or those who proudly flaunt their passion for travel. On the contrary, editing a travel magazine has now made me oddly protective of travellers and their ilk. My submission is that 'love to travel', suggested so casually, just doesn't feel adequate to the depth of emotion it sparks in true devotees. In February, the month of love as endowed by our great gifting industrial complex, we are wrestling with that 'love for travel' means in tangible, life-affecting terms.\"])\n",
    "print((tfidf * tfidf.T).A)"
   ]
  }
 ],
 "metadata": {
  "kernelspec": {
   "display_name": "Python 3",
   "language": "python",
   "name": "python3"
  },
  "language_info": {
   "codemirror_mode": {
    "name": "ipython",
    "version": 3
   },
   "file_extension": ".py",
   "mimetype": "text/x-python",
   "name": "python",
   "nbconvert_exporter": "python",
   "pygments_lexer": "ipython3",
   "version": "3.6.5"
  }
 },
 "nbformat": 4,
 "nbformat_minor": 2
}
